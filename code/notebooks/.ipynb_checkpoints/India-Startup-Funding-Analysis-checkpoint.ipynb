{
 "cells": [
  {
   "cell_type": "markdown",
   "id": "f134de72",
   "metadata": {},
   "source": [
    "## Hypothesis"
   ]
  },
  {
   "cell_type": "markdown",
   "id": "a8aaf275",
   "metadata": {},
   "source": [
    "Ho=The amount of funding received by indian startups has remained the same or decreased over the years\n",
    "H1=The amount of funding received by indian startups has increased over the years"
   ]
  },
  {
   "cell_type": "markdown",
   "id": "4a1e1152",
   "metadata": {},
   "source": [
    "## Questions"
   ]
  },
  {
   "cell_type": "markdown",
   "id": "6a2fb99a",
   "metadata": {},
   "source": [
    "1.Which industries are getting the most funding\n",
    "2.How many new startups are formed yearly\n",
    "3.Who are the major investors in india\n",
    "4.Which of the major investors gives the most funding\n",
    "5.Which year Did investors invest the most\n",
    "6.What is the trend in the amount of fundining received by indian startups over the year\n",
    "7.Is there a correlation between the year of startup and the amount of funding received\n",
    "8.Who are the top investors in india based on the amount of funding provided\n",
    "9.Is the a difference in the amount of funding received by startups in different regions of india\n",
    "10.Which industry received qthe highest amount of funding in each year"
   ]
  }
 ],
 "metadata": {
  "kernelspec": {
   "display_name": "Python 3 (ipykernel)",
   "language": "python",
   "name": "python3"
  },
  "language_info": {
   "codemirror_mode": {
    "name": "ipython",
    "version": 3
   },
   "file_extension": ".py",
   "mimetype": "text/x-python",
   "name": "python",
   "nbconvert_exporter": "python",
   "pygments_lexer": "ipython3",
   "version": "3.9.7"
  }
 },
 "nbformat": 4,
 "nbformat_minor": 5
}
